{
 "cells": [
  {
   "cell_type": "code",
   "execution_count": 3,
   "id": "3bedf039",
   "metadata": {},
   "outputs": [],
   "source": [
    "import numpy as np\n",
    "import pandas as pd"
   ]
  },
  {
   "cell_type": "code",
   "execution_count": 16,
   "id": "56224ba3",
   "metadata": {},
   "outputs": [],
   "source": [
    "# Example data: 5 samples, 2 features\n",
    "X = np.array([[2.5, 2.4],\n",
    "              [0.5, 0.7],\n",
    "              [2.2, 2.9],\n",
    "              [1.9, 2.2],\n",
    "              [3.1, 3.0]])"
   ]
  },
  {
   "cell_type": "code",
   "execution_count": 27,
   "id": "4964e972",
   "metadata": {},
   "outputs": [
    {
     "data": {
      "text/plain": [
       "array([[ 0.46,  0.16],\n",
       "       [-1.54, -1.54],\n",
       "       [ 0.16,  0.66],\n",
       "       [-0.14, -0.04],\n",
       "       [ 1.06,  0.76]])"
      ]
     },
     "execution_count": 27,
     "metadata": {},
     "output_type": "execute_result"
    }
   ],
   "source": [
    "# Step 1: center the data\n",
    "X_centered = X - np.mean(X, axis=0)\n",
    "X_centered"
   ]
  },
  {
   "cell_type": "code",
   "execution_count": 28,
   "id": "2c43bcb9",
   "metadata": {},
   "outputs": [
    {
     "data": {
      "text/plain": [
       "array([[0.938 , 0.8405],\n",
       "       [0.8405, 0.853 ]])"
      ]
     },
     "execution_count": 28,
     "metadata": {},
     "output_type": "execute_result"
    }
   ],
   "source": [
    "# step 2: compute the covariance matrix\n",
    "cov_matrix = np.cov(X_centered, rowvar=False)\n",
    "cov_matrix"
   ]
  },
  {
   "cell_type": "code",
   "execution_count": null,
   "id": "64ff873f",
   "metadata": {},
   "outputs": [],
   "source": []
  }
 ],
 "metadata": {
  "kernelspec": {
   "display_name": "Python 3",
   "language": "python",
   "name": "python3"
  },
  "language_info": {
   "codemirror_mode": {
    "name": "ipython",
    "version": 3
   },
   "file_extension": ".py",
   "mimetype": "text/x-python",
   "name": "python",
   "nbconvert_exporter": "python",
   "pygments_lexer": "ipython3",
   "version": "3.13.1"
  }
 },
 "nbformat": 4,
 "nbformat_minor": 5
}
