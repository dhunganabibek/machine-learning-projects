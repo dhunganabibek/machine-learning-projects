{
 "cells": [
  {
   "cell_type": "markdown",
   "id": "4f19a7ae",
   "metadata": {},
   "source": [
    "### SVD\n",
    "\n",
    "all matrix multiplication does is rotate and stretch the vector (Ax)  \n",
    "All svd says  is A is made  of some rotation and strectching.\n",
    "\n"
   ]
  },
  {
   "cell_type": "markdown",
   "id": "e2986413",
   "metadata": {},
   "source": []
  }
 ],
 "metadata": {
  "language_info": {
   "name": "python"
  }
 },
 "nbformat": 4,
 "nbformat_minor": 5
}
